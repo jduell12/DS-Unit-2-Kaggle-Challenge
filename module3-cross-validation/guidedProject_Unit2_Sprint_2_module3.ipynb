{
  "nbformat": 4,
  "nbformat_minor": 0,
  "metadata": {
    "colab": {
      "name": "guidedProject_Unit2_Sprint_2_module3.ipynb",
      "provenance": [],
      "collapsed_sections": [],
      "authorship_tag": "ABX9TyMsIiXlVz6z69TeSfGBxWc9",
      "include_colab_link": true
    },
    "kernelspec": {
      "name": "python3",
      "display_name": "Python 3"
    },
    "language_info": {
      "name": "python"
    }
  },
  "cells": [
    {
      "cell_type": "markdown",
      "metadata": {
        "id": "view-in-github",
        "colab_type": "text"
      },
      "source": [
        "<a href=\"https://colab.research.google.com/github/jduell12/DS-Unit-2-Kaggle-Challenge/blob/main/guidedProject_Unit2_Sprint_2_module3.ipynb\" target=\"_parent\"><img src=\"https://colab.research.google.com/assets/colab-badge.svg\" alt=\"Open In Colab\"/></a>"
      ]
    },
    {
      "cell_type": "markdown",
      "metadata": {
        "id": "1wmU7eZE2PT0"
      },
      "source": [
        "# Cross-Validation\n",
        "\n",
        "* Do **k-fold cross-validation** with independent test set\n",
        "* Use scikit-learn for **hyperparameter optimization**"
      ]
    },
    {
      "cell_type": "code",
      "metadata": {
        "colab": {
          "base_uri": "https://localhost:8080/"
        },
        "id": "lpAo9cuQ2KTt",
        "outputId": "4358d7cf-34ec-4793-de8a-ef15d7d44efc"
      },
      "source": [
        "import sys\n",
        "# If you're on Colab:\n",
        "if 'google.colab' in sys.modules:\n",
        "  DATA_PATH = 'https://raw.githubusercontent.com/LambdaSchool/DS-Unit-2-Kaggle-Challenge/main/data/'\n",
        "  !pip install category_encoders==2.*\n",
        "else:\n",
        "  DATA_PATH = '../data/'"
      ],
      "execution_count": 1,
      "outputs": [
        {
          "output_type": "stream",
          "name": "stdout",
          "text": [
            "Collecting category_encoders==2.*\n",
            "  Downloading category_encoders-2.2.2-py2.py3-none-any.whl (80 kB)\n",
            "\u001b[?25l\r\u001b[K     |████                            | 10 kB 20.4 MB/s eta 0:00:01\r\u001b[K     |████████▏                       | 20 kB 23.0 MB/s eta 0:00:01\r\u001b[K     |████████████▏                   | 30 kB 16.1 MB/s eta 0:00:01\r\u001b[K     |████████████████▎               | 40 kB 11.3 MB/s eta 0:00:01\r\u001b[K     |████████████████████▎           | 51 kB 8.9 MB/s eta 0:00:01\r\u001b[K     |████████████████████████▍       | 61 kB 9.0 MB/s eta 0:00:01\r\u001b[K     |████████████████████████████▍   | 71 kB 7.4 MB/s eta 0:00:01\r\u001b[K     |████████████████████████████████| 80 kB 4.1 MB/s \n",
            "\u001b[?25hRequirement already satisfied: scikit-learn>=0.20.0 in /usr/local/lib/python3.7/dist-packages (from category_encoders==2.*) (0.22.2.post1)\n",
            "Requirement already satisfied: numpy>=1.14.0 in /usr/local/lib/python3.7/dist-packages (from category_encoders==2.*) (1.19.5)\n",
            "Requirement already satisfied: pandas>=0.21.1 in /usr/local/lib/python3.7/dist-packages (from category_encoders==2.*) (1.1.5)\n",
            "Requirement already satisfied: statsmodels>=0.9.0 in /usr/local/lib/python3.7/dist-packages (from category_encoders==2.*) (0.10.2)\n",
            "Requirement already satisfied: scipy>=1.0.0 in /usr/local/lib/python3.7/dist-packages (from category_encoders==2.*) (1.4.1)\n",
            "Requirement already satisfied: patsy>=0.5.1 in /usr/local/lib/python3.7/dist-packages (from category_encoders==2.*) (0.5.1)\n",
            "Requirement already satisfied: pytz>=2017.2 in /usr/local/lib/python3.7/dist-packages (from pandas>=0.21.1->category_encoders==2.*) (2018.9)\n",
            "Requirement already satisfied: python-dateutil>=2.7.3 in /usr/local/lib/python3.7/dist-packages (from pandas>=0.21.1->category_encoders==2.*) (2.8.2)\n",
            "Requirement already satisfied: six in /usr/local/lib/python3.7/dist-packages (from patsy>=0.5.1->category_encoders==2.*) (1.15.0)\n",
            "Requirement already satisfied: joblib>=0.11 in /usr/local/lib/python3.7/dist-packages (from scikit-learn>=0.20.0->category_encoders==2.*) (1.0.1)\n",
            "Installing collected packages: category-encoders\n",
            "Successfully installed category-encoders-2.2.2\n"
          ]
        }
      ]
    },
    {
      "cell_type": "code",
      "metadata": {
        "id": "xtKzI2Ox2laK"
      },
      "source": [
        "from category_encoders import OrdinalEncoder\n",
        "from sklearn.ensemble import RandomForestClassifier\n",
        "from sklearn.impute import SimpleImputer\n",
        "from sklearn.model_selection import cross_val_score #k-fold cross validation,\n",
        "from sklearn.model_selection import GridSearchCV, RandomizedSearchCV # hyperparameter fine tuning \n",
        "from sklearn.pipeline import make_pipeline\n",
        "from sklearn.tree import DecisionTreeClassifier\n",
        "import pandas as pd\n",
        "import numpy as np"
      ],
      "execution_count": 4,
      "outputs": []
    },
    {
      "cell_type": "markdown",
      "metadata": {
        "id": "VLfV23cU211V"
      },
      "source": [
        "# I. Wrangle Data"
      ]
    },
    {
      "cell_type": "code",
      "metadata": {
        "id": "0pooTRKB2yIB"
      },
      "source": [
        "def wrangle(fm_path, tv_path=None):\n",
        "  if tv_path:\n",
        "    df = pd.merge(pd.read_csv(fm_path, na_values=[0, -2.000000e-08],parse_dates=['date_recorded']), pd.read_csv(tv_path)).set_index('id')\n",
        "  else:\n",
        "    df = pd.read_csv(fm_path, na_values=[0, -2.000000e-08], parse_dates=['date_recorded'], index_col='id')\n",
        "  # drop constant columns \n",
        "  df.drop(columns=['recorded_by'], inplace=True)\n",
        "  # create age feature \n",
        "  df['pump_age'] = df['date_recorded'].dt.year - df['construction_year']\n",
        "  df.drop(columns=['date_recorded'], inplace=True)\n",
        "  # drop high cardinality columns \n",
        "  cutoff = 100\n",
        "  drop_cols = [col for col in df.select_dtypes('object').columns if df[col].nunique() > 100]\n",
        "  df.drop(columns = drop_cols, inplace=True)\n",
        "  # drop duplicate columns \n",
        "  dup_cols = [col for col in df.head(15).T.duplicated().index if df.head(15).T.duplicated()[col]]\n",
        "  df.drop(columns=dup_cols, inplace=True)\n",
        "  return df"
      ],
      "execution_count": 5,
      "outputs": []
    },
    {
      "cell_type": "code",
      "metadata": {
        "id": "_6lZRaaC3SYP"
      },
      "source": [
        "df = wrangle(DATA_PATH + 'waterpumps/train_features.csv', DATA_PATH + 'waterpumps/train_labels.csv')\n",
        "X_test = wrangle(DATA_PATH + 'waterpumps/test_features.csv')"
      ],
      "execution_count": 7,
      "outputs": []
    },
    {
      "cell_type": "markdown",
      "metadata": {
        "id": "mGSl8ZY63VbA"
      },
      "source": [
        "#II. Split Data"
      ]
    },
    {
      "cell_type": "markdown",
      "metadata": {
        "id": "STIt3-MW3XTE"
      },
      "source": [
        "# Split TV from FM"
      ]
    },
    {
      "cell_type": "code",
      "metadata": {
        "id": "3MwYv_1z3fco"
      },
      "source": [
        "target = 'status_group'\n",
        "y_train = df[target]\n",
        "X_train = df.drop(columns=target)"
      ],
      "execution_count": 8,
      "outputs": []
    },
    {
      "cell_type": "markdown",
      "metadata": {
        "id": "fCnrBsCL3c4R"
      },
      "source": [
        "# Training-Validation Split\n",
        "\n",
        "* Since we're doing k-fold CV (cross validation), there's no need for a validation set"
      ]
    },
    {
      "cell_type": "markdown",
      "metadata": {
        "id": "G5Pqo5xM3Zh1"
      },
      "source": [
        "# III. Establish Baseline\n",
        "\n",
        "This is a **classification** our baseline with be **accuracy**"
      ]
    },
    {
      "cell_type": "code",
      "metadata": {
        "colab": {
          "base_uri": "https://localhost:8080/"
        },
        "id": "xhlow_qi3Uy8",
        "outputId": "54577ff2-b5b0-4aa4-fdfd-ae495b0639d3"
      },
      "source": [
        "print('Baseline Accuracy:', y_train.value_counts(normalize=True).max())"
      ],
      "execution_count": 9,
      "outputs": [
        {
          "output_type": "stream",
          "name": "stdout",
          "text": [
            "Baseline Accuracy: 0.5430899510092763\n"
          ]
        }
      ]
    },
    {
      "cell_type": "markdown",
      "metadata": {
        "id": "4Hf02ZZK4Tfw"
      },
      "source": [
        "# IV. Build Models\n",
        "\n",
        "* DecisionTreeClassifier\n",
        "* RandomForestClassifier"
      ]
    },
    {
      "cell_type": "code",
      "metadata": {
        "id": "kaye8Pax4S2U"
      },
      "source": [
        "model_dt = make_pipeline(\n",
        "    OrdinalEncoder(),\n",
        "    SimpleImputer(),\n",
        "    DecisionTreeClassifier(random_state=42)\n",
        ")"
      ],
      "execution_count": 10,
      "outputs": []
    },
    {
      "cell_type": "code",
      "metadata": {
        "id": "YeegFive4kwQ"
      },
      "source": [
        "model_rf = make_pipeline(\n",
        "    OrdinalEncoder(),\n",
        "    SimpleImputer(),\n",
        "    RandomForestClassifier(n_estimators=25, random_state=42)\n",
        ")"
      ],
      "execution_count": 11,
      "outputs": []
    },
    {
      "cell_type": "markdown",
      "metadata": {
        "id": "Eb84tPdW4rAZ"
      },
      "source": [
        "**Check cross-validation scores**"
      ]
    },
    {
      "cell_type": "code",
      "metadata": {
        "id": "TD9moZO44prE"
      },
      "source": [
        "cv_scores_dt = cross_val_score(model_dt, X_train, y_train, cv=5, n_jobs=-1)\n",
        "cv_scores_rf = cross_val_score(model_rf, X_train, y_train, cv=5, n_jobs=-1)"
      ],
      "execution_count": 19,
      "outputs": []
    },
    {
      "cell_type": "code",
      "metadata": {
        "colab": {
          "base_uri": "https://localhost:8080/"
        },
        "id": "hzzftLob44dL",
        "outputId": "552a3f5a-d261-4ce2-b344-49c2e4cce774"
      },
      "source": [
        "print('CV score DecisionTreeClassifier')\n",
        "print(cv_scores_dt)\n",
        "print('Mean CV accuracy score:', cv_scores_dt.mean())\n",
        "print('STD CV accuracy score:', cv_scores_dt.std())"
      ],
      "execution_count": 20,
      "outputs": [
        {
          "output_type": "stream",
          "name": "stdout",
          "text": [
            "CV score DecisionTreeClassifier\n",
            "[0.75782828 0.74991582 0.75917508 0.75580808 0.74779022]\n",
            "Mean CV accuracy score: 0.7541034981518187\n",
            "STD CV accuracy score: 0.0044697812186829024\n"
          ]
        }
      ]
    },
    {
      "cell_type": "code",
      "metadata": {
        "colab": {
          "base_uri": "https://localhost:8080/"
        },
        "id": "RGvILTi_5OEb",
        "outputId": "be16e689-85a0-4c2d-c646-5088d9d10f6b"
      },
      "source": [
        "print('CV score RandomForestClassifier')\n",
        "print(cv_scores_rf)\n",
        "print('Mean CV accuracy score:', cv_scores_rf.mean())\n",
        "print('STD CV accuracy score:', cv_scores_rf.std())"
      ],
      "execution_count": 21,
      "outputs": [
        {
          "output_type": "stream",
          "name": "stdout",
          "text": [
            "CV score RandomForestClassifier\n",
            "[0.80505051 0.79907407 0.79991582 0.79974747 0.79425878]\n",
            "Mean CV accuracy score: 0.7996093309558248\n",
            "STD CV accuracy score: 0.003424451376257444\n"
          ]
        }
      ]
    },
    {
      "cell_type": "markdown",
      "metadata": {
        "id": "Jf6gdsPL5UrW"
      },
      "source": [
        "# V. Tune Model\n",
        "\n",
        "* What are important hyperparameters for RandomForestClassifier?\n",
        "  * max_depth: 5-35\n",
        "  * n_estimators: 25-100\n",
        "  * imputation strategy: mean or median\n",
        "\n",
        "**GridSearch**: Very thourough, but it can take a long time"
      ]
    },
    {
      "cell_type": "code",
      "metadata": {
        "id": "lDbSJrCFANLN"
      },
      "source": [
        "param_grid = {\n",
        "    'simpleimputer__strategy': ['mean', 'median'],\n",
        "    'randomforestclassifier__max_depth': range(5, 40, 5),\n",
        "    'randomforestclassifier__n_estimators': range(25, 125, 25)\n",
        "}\n",
        "\n",
        "model_rfgs = GridSearchCV(\n",
        "    model_rf, \n",
        "    param_grid=param_grid,\n",
        "    n_jobs=-1,\n",
        "    cv=5,\n",
        "    verbose=1\n",
        ")\n",
        "\n"
      ],
      "execution_count": 26,
      "outputs": []
    },
    {
      "cell_type": "code",
      "metadata": {
        "colab": {
          "base_uri": "https://localhost:8080/"
        },
        "id": "dgtaDSymLM_Z",
        "outputId": "ab55c724-8b10-45fc-86fb-d8a32980ee94"
      },
      "source": [
        "model_rfgs.fit(X_train, y_train)"
      ],
      "execution_count": 27,
      "outputs": [
        {
          "output_type": "stream",
          "name": "stdout",
          "text": [
            "Fitting 5 folds for each of 56 candidates, totalling 280 fits\n"
          ]
        },
        {
          "output_type": "stream",
          "name": "stderr",
          "text": [
            "[Parallel(n_jobs=-1)]: Using backend LokyBackend with 2 concurrent workers.\n",
            "[Parallel(n_jobs=-1)]: Done  46 tasks      | elapsed:  1.7min\n",
            "[Parallel(n_jobs=-1)]: Done 196 tasks      | elapsed: 12.9min\n",
            "[Parallel(n_jobs=-1)]: Done 280 out of 280 | elapsed: 20.4min finished\n"
          ]
        },
        {
          "output_type": "execute_result",
          "data": {
            "text/plain": [
              "GridSearchCV(cv=5, error_score=nan,\n",
              "             estimator=Pipeline(memory=None,\n",
              "                                steps=[('ordinalencoder',\n",
              "                                        OrdinalEncoder(cols=None,\n",
              "                                                       drop_invariant=False,\n",
              "                                                       handle_missing='value',\n",
              "                                                       handle_unknown='value',\n",
              "                                                       mapping=None,\n",
              "                                                       return_df=True,\n",
              "                                                       verbose=0)),\n",
              "                                       ('simpleimputer',\n",
              "                                        SimpleImputer(add_indicator=False,\n",
              "                                                      copy=True,\n",
              "                                                      fill_value=None,\n",
              "                                                      missing_values=nan,\n",
              "                                                      strategy='mean',\n",
              "                                                      verbose=0)),\n",
              "                                       ('ra...\n",
              "                                                               oob_score=False,\n",
              "                                                               random_state=42,\n",
              "                                                               verbose=0,\n",
              "                                                               warm_start=False))],\n",
              "                                verbose=False),\n",
              "             iid='deprecated', n_jobs=-1,\n",
              "             param_grid={'randomforestclassifier__max_depth': range(5, 40, 5),\n",
              "                         'randomforestclassifier__n_estimators': range(25, 125, 25),\n",
              "                         'simpleimputer__strategy': ['mean', 'median']},\n",
              "             pre_dispatch='2*n_jobs', refit=True, return_train_score=False,\n",
              "             scoring=None, verbose=1)"
            ]
          },
          "metadata": {},
          "execution_count": 27
        }
      ]
    },
    {
      "cell_type": "code",
      "metadata": {
        "colab": {
          "base_uri": "https://localhost:8080/"
        },
        "id": "ReRboQArCpPK",
        "outputId": "92964727-6b1e-47c0-de40-7da9937676fa"
      },
      "source": [
        "7*4*2*5 #number of models for grid search"
      ],
      "execution_count": 22,
      "outputs": [
        {
          "output_type": "execute_result",
          "data": {
            "text/plain": [
              "280"
            ]
          },
          "metadata": {},
          "execution_count": 22
        }
      ]
    },
    {
      "cell_type": "code",
      "metadata": {
        "colab": {
          "base_uri": "https://localhost:8080/"
        },
        "id": "DWQ5bgXqYu7M",
        "outputId": "caa56da6-dc50-43d2-a7ab-2c26683893d4"
      },
      "source": [
        "type(model_rfgs) # type is GridSearchCV but can predict similar to a model"
      ],
      "execution_count": 28,
      "outputs": [
        {
          "output_type": "execute_result",
          "data": {
            "text/plain": [
              "sklearn.model_selection._search.GridSearchCV"
            ]
          },
          "metadata": {},
          "execution_count": 28
        }
      ]
    },
    {
      "cell_type": "code",
      "metadata": {
        "colab": {
          "base_uri": "https://localhost:8080/"
        },
        "id": "kbTmShJ2Y2ro",
        "outputId": "e2838fd2-3df8-4c29-e74f-606e4a0dfdca"
      },
      "source": [
        "model_rfgs.best_params_"
      ],
      "execution_count": 30,
      "outputs": [
        {
          "output_type": "execute_result",
          "data": {
            "text/plain": [
              "{'randomforestclassifier__max_depth': 20,\n",
              " 'randomforestclassifier__n_estimators': 100,\n",
              " 'simpleimputer__strategy': 'mean'}"
            ]
          },
          "metadata": {},
          "execution_count": 30
        }
      ]
    },
    {
      "cell_type": "code",
      "metadata": {
        "colab": {
          "base_uri": "https://localhost:8080/"
        },
        "id": "oakyzsCfZL0I",
        "outputId": "450116ea-828d-4e45-fa41-e331ccf32754"
      },
      "source": [
        "model_rfgs.best_estimator_"
      ],
      "execution_count": 33,
      "outputs": [
        {
          "output_type": "execute_result",
          "data": {
            "text/plain": [
              "Pipeline(memory=None,\n",
              "         steps=[('ordinalencoder',\n",
              "                 OrdinalEncoder(cols=['basin', 'region', 'public_meeting',\n",
              "                                      'scheme_management', 'permit',\n",
              "                                      'extraction_type',\n",
              "                                      'extraction_type_class', 'management',\n",
              "                                      'management_group', 'payment',\n",
              "                                      'payment_type', 'water_quality',\n",
              "                                      'quality_group', 'quantity', 'source',\n",
              "                                      'source_type', 'source_class',\n",
              "                                      'waterpoint_type',\n",
              "                                      'waterpoint_type_group...\n",
              "                 RandomForestClassifier(bootstrap=True, ccp_alpha=0.0,\n",
              "                                        class_weight=None, criterion='gini',\n",
              "                                        max_depth=20, max_features='auto',\n",
              "                                        max_leaf_nodes=None, max_samples=None,\n",
              "                                        min_impurity_decrease=0.0,\n",
              "                                        min_impurity_split=None,\n",
              "                                        min_samples_leaf=1, min_samples_split=2,\n",
              "                                        min_weight_fraction_leaf=0.0,\n",
              "                                        n_estimators=100, n_jobs=None,\n",
              "                                        oob_score=False, random_state=42,\n",
              "                                        verbose=0, warm_start=False))],\n",
              "         verbose=False)"
            ]
          },
          "metadata": {},
          "execution_count": 33
        }
      ]
    },
    {
      "cell_type": "code",
      "metadata": {
        "colab": {
          "base_uri": "https://localhost:8080/"
        },
        "id": "VG33IgE9ARWb",
        "outputId": "39d16f75-2d8a-4a06-e648-cba57f795071"
      },
      "source": [
        "model_rfgs.best_score_"
      ],
      "execution_count": 32,
      "outputs": [
        {
          "output_type": "execute_result",
          "data": {
            "text/plain": [
              "0.8081954290498781"
            ]
          },
          "metadata": {},
          "execution_count": 32
        }
      ]
    },
    {
      "cell_type": "markdown",
      "metadata": {
        "id": "HKsnMIFvANhN"
      },
      "source": [
        "**RandomizedSearchCV**: Quicker, less effective but usually good enough"
      ]
    },
    {
      "cell_type": "code",
      "metadata": {
        "id": "FCWlHESzZnd5"
      },
      "source": [
        "param_distribution = {\n",
        "    'simpleimputer__strategy': ['mean', 'median'],\n",
        "    'randomforestclassifier__max_depth': range(5, 40, 5),\n",
        "    'randomforestclassifier__n_estimators': range(25, 125, 25)\n",
        "}\n",
        "\n",
        "model_rfrs = RandomizedSearchCV(\n",
        "    model_rf,\n",
        "    param_distributions=param_distribution,\n",
        "    n_iter=10,\n",
        "    cv=5,\n",
        "    n_jobs=-1,\n",
        "    verbose=1\n",
        ")\n"
      ],
      "execution_count": 34,
      "outputs": []
    },
    {
      "cell_type": "code",
      "metadata": {
        "colab": {
          "base_uri": "https://localhost:8080/"
        },
        "id": "v4Ysq_hhaB-E",
        "outputId": "442493f4-62f5-45a0-8563-99702190ab00"
      },
      "source": [
        "model_rfrs.fit(X_train, y_train)"
      ],
      "execution_count": 36,
      "outputs": [
        {
          "output_type": "stream",
          "name": "stdout",
          "text": [
            "Fitting 5 folds for each of 10 candidates, totalling 50 fits\n"
          ]
        },
        {
          "output_type": "stream",
          "name": "stderr",
          "text": [
            "[Parallel(n_jobs=-1)]: Using backend LokyBackend with 2 concurrent workers.\n",
            "[Parallel(n_jobs=-1)]: Done  46 tasks      | elapsed:  4.3min\n",
            "[Parallel(n_jobs=-1)]: Done  50 out of  50 | elapsed:  4.4min finished\n"
          ]
        },
        {
          "output_type": "execute_result",
          "data": {
            "text/plain": [
              "RandomizedSearchCV(cv=5, error_score=nan,\n",
              "                   estimator=Pipeline(memory=None,\n",
              "                                      steps=[('ordinalencoder',\n",
              "                                              OrdinalEncoder(cols=None,\n",
              "                                                             drop_invariant=False,\n",
              "                                                             handle_missing='value',\n",
              "                                                             handle_unknown='value',\n",
              "                                                             mapping=None,\n",
              "                                                             return_df=True,\n",
              "                                                             verbose=0)),\n",
              "                                             ('simpleimputer',\n",
              "                                              SimpleImputer(add_indicator=False,\n",
              "                                                            copy=True,\n",
              "                                                            fill_value=None,\n",
              "                                                            missing_values=nan,\n",
              "                                                            strategy='mean',\n",
              "                                                            verbose=0)...\n",
              "                                                                     verbose=0,\n",
              "                                                                     warm_start=False))],\n",
              "                                      verbose=False),\n",
              "                   iid='deprecated', n_iter=10, n_jobs=-1,\n",
              "                   param_distributions={'randomforestclassifier__max_depth': range(5, 40, 5),\n",
              "                                        'randomforestclassifier__n_estimators': range(25, 125, 25),\n",
              "                                        'simpleimputer__strategy': ['mean',\n",
              "                                                                    'median']},\n",
              "                   pre_dispatch='2*n_jobs', random_state=None, refit=True,\n",
              "                   return_train_score=False, scoring=None, verbose=1)"
            ]
          },
          "metadata": {},
          "execution_count": 36
        }
      ]
    },
    {
      "cell_type": "code",
      "metadata": {
        "colab": {
          "base_uri": "https://localhost:8080/"
        },
        "id": "oPRR0eZHbU0b",
        "outputId": "36e69283-8860-43f1-c402-fe7880c5e5d6"
      },
      "source": [
        "model_rfrs.best_params_"
      ],
      "execution_count": 37,
      "outputs": [
        {
          "output_type": "execute_result",
          "data": {
            "text/plain": [
              "{'randomforestclassifier__max_depth': 20,\n",
              " 'randomforestclassifier__n_estimators': 100,\n",
              " 'simpleimputer__strategy': 'mean'}"
            ]
          },
          "metadata": {},
          "execution_count": 37
        }
      ]
    },
    {
      "cell_type": "code",
      "metadata": {
        "colab": {
          "base_uri": "https://localhost:8080/"
        },
        "id": "qlR7Sf4IbX5Q",
        "outputId": "938295a6-5eab-4ccb-f2a1-dc57170dba60"
      },
      "source": [
        "model_rfrs.best_score_"
      ],
      "execution_count": 38,
      "outputs": [
        {
          "output_type": "execute_result",
          "data": {
            "text/plain": [
              "0.8081954290498781"
            ]
          },
          "metadata": {},
          "execution_count": 38
        }
      ]
    },
    {
      "cell_type": "markdown",
      "metadata": {
        "id": "z9zqgFxuAR4Z"
      },
      "source": [
        "# Make Submission"
      ]
    },
    {
      "cell_type": "code",
      "metadata": {
        "id": "g8EPobyVA-m1"
      },
      "source": [
        "# make a dataframe with an index column of id and a column with status_group\n",
        "y_pred = model_rfgs.predict(X_test)"
      ],
      "execution_count": 39,
      "outputs": []
    },
    {
      "cell_type": "code",
      "metadata": {
        "colab": {
          "base_uri": "https://localhost:8080/"
        },
        "id": "G9uuz9INb3Lg",
        "outputId": "b234f46a-98e2-4a7f-9d46-892b0d239c1d"
      },
      "source": [
        "type(y_pred)"
      ],
      "execution_count": 40,
      "outputs": [
        {
          "output_type": "execute_result",
          "data": {
            "text/plain": [
              "numpy.ndarray"
            ]
          },
          "metadata": {},
          "execution_count": 40
        }
      ]
    },
    {
      "cell_type": "code",
      "metadata": {
        "colab": {
          "base_uri": "https://localhost:8080/"
        },
        "id": "uypAKPi7b4k-",
        "outputId": "d49198b4-3359-456d-ff4e-2d2d165a802f"
      },
      "source": [
        "y_pred.shape"
      ],
      "execution_count": 41,
      "outputs": [
        {
          "output_type": "execute_result",
          "data": {
            "text/plain": [
              "(14358,)"
            ]
          },
          "metadata": {},
          "execution_count": 41
        }
      ]
    },
    {
      "cell_type": "code",
      "metadata": {
        "colab": {
          "base_uri": "https://localhost:8080/"
        },
        "id": "tWsbHgqQb6ED",
        "outputId": "f954ab54-aa08-42a6-c147-d8ed73df5bf9"
      },
      "source": [
        "y_pred[:10]"
      ],
      "execution_count": 43,
      "outputs": [
        {
          "output_type": "execute_result",
          "data": {
            "text/plain": [
              "array(['functional', 'functional', 'functional', 'non functional',\n",
              "       'functional', 'functional', 'functional', 'non functional',\n",
              "       'non functional', 'functional'], dtype=object)"
            ]
          },
          "metadata": {},
          "execution_count": 43
        }
      ]
    },
    {
      "cell_type": "code",
      "metadata": {
        "id": "590OC6KJb9Io"
      },
      "source": [
        "# pd.DataFrame(y_pred, index=X_test.index, columns=['status_group']).head()\n",
        "submission = pd.DataFrame({'status_group': y_pred}, index=X_test.index).head()"
      ],
      "execution_count": 48,
      "outputs": []
    },
    {
      "cell_type": "code",
      "metadata": {
        "id": "JGB1ZdZycz7U"
      },
      "source": [
        "date_stamp = pd.Timestamp.now().strftime('%Y-%m-%d_%H-%M') # year-month-day_hour-min hour in 24 format"
      ],
      "execution_count": 59,
      "outputs": []
    },
    {
      "cell_type": "code",
      "metadata": {
        "id": "PwXm7kUBclxK"
      },
      "source": [
        "#convert to dataframe to csv \n",
        "submission.to_csv(f'{date_stamp}submisison.csv')"
      ],
      "execution_count": 60,
      "outputs": []
    },
    {
      "cell_type": "markdown",
      "metadata": {
        "id": "4G452yKdaTa4"
      },
      "source": [
        "# VI. Communicate Results\n",
        "\n",
        "**Showing Feature Importance**"
      ]
    },
    {
      "cell_type": "markdown",
      "metadata": {
        "id": "hUA5xa1xdxNZ"
      },
      "source": [
        "Plot the feature importance for our RandomForest model"
      ]
    },
    {
      "cell_type": "code",
      "metadata": {
        "id": "oTEcNeMdaV9L"
      },
      "source": [
        "bestimator = model_rfgs.best_estimator_\n",
        "importances = bestimator.named_steps['randomforestclassifier'].feature_importances_\n",
        "features = X_train.columns\n",
        "\n",
        "feature_impt = pd.Series(importances, index=features).sort_values()"
      ],
      "execution_count": 68,
      "outputs": []
    },
    {
      "cell_type": "code",
      "metadata": {
        "colab": {
          "base_uri": "https://localhost:8080/",
          "height": 265
        },
        "id": "kQ-grCjleRBr",
        "outputId": "85a6564a-499e-44b0-a871-a298e9888afc"
      },
      "source": [
        "feature_impt.tail(10).plot(kind='barh');"
      ],
      "execution_count": 70,
      "outputs": [
        {
          "output_type": "display_data",
          "data": {
            "image/png": "[encoded data removed]",
            "text/plain": [
              "<Figure size 432x288 with 1 Axes>"
            ]
          },
          "metadata": {
            "needs_background": "light"
          }
        }
      ]
    }
  ]
}