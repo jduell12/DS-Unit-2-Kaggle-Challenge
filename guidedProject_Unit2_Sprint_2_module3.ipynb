{
  "nbformat": 4,
  "nbformat_minor": 0,
  "metadata": {
    "colab": {
      "name": "guidedProject_Unit2_Sprint_2_module3.ipynb",
      "provenance": [],
      "collapsed_sections": [],
      "authorship_tag": "ABX9TyOlbD+tvRWsaKiI+qCi6LVe",
      "include_colab_link": true
    },
    "kernelspec": {
      "name": "python3",
      "display_name": "Python 3"
    },
    "language_info": {
      "name": "python"
    }
  },
  "cells": [
    {
      "cell_type": "markdown",
      "metadata": {
        "id": "view-in-github",
        "colab_type": "text"
      },
      "source": [
        "<a href=\"https://colab.research.google.com/github/jduell12/DS-Unit-2-Kaggle-Challenge/blob/main/guidedProject_Unit2_Sprint_2_module3.ipynb\" target=\"_parent\"><img src=\"https://colab.research.google.com/assets/colab-badge.svg\" alt=\"Open In Colab\"/></a>"
      ]
    },
    {
      "cell_type": "markdown",
      "metadata": {
        "id": "1wmU7eZE2PT0"
      },
      "source": [
        "# Cross-Validation\n",
        "\n",
        "* Do **k-fold cross-validation** with independent test set\n",
        "* Use scikit-learn for **hyperparameter optimization**"
      ]
    },
    {
      "cell_type": "code",
      "metadata": {
        "colab": {
          "base_uri": "https://localhost:8080/"
        },
        "id": "lpAo9cuQ2KTt",
        "outputId": "4358d7cf-34ec-4793-de8a-ef15d7d44efc"
      },
      "source": [
        "import sys\n",
        "# If you're on Colab:\n",
        "if 'google.colab' in sys.modules:\n",
        "  DATA_PATH = 'https://raw.githubusercontent.com/LambdaSchool/DS-Unit-2-Kaggle-Challenge/main/data/'\n",
        "  !pip install category_encoders==2.*\n",
        "else:\n",
        "  DATA_PATH = '../data/'"
      ],
      "execution_count": 1,
      "outputs": [
        {
          "output_type": "stream",
          "name": "stdout",
          "text": [
            "Collecting category_encoders==2.*\n",
            "  Downloading category_encoders-2.2.2-py2.py3-none-any.whl (80 kB)\n",
            "\u001b[?25l\r\u001b[K     |████                            | 10 kB 20.4 MB/s eta 0:00:01\r\u001b[K     |████████▏                       | 20 kB 23.0 MB/s eta 0:00:01\r\u001b[K     |████████████▏                   | 30 kB 16.1 MB/s eta 0:00:01\r\u001b[K     |████████████████▎               | 40 kB 11.3 MB/s eta 0:00:01\r\u001b[K     |████████████████████▎           | 51 kB 8.9 MB/s eta 0:00:01\r\u001b[K     |████████████████████████▍       | 61 kB 9.0 MB/s eta 0:00:01\r\u001b[K     |████████████████████████████▍   | 71 kB 7.4 MB/s eta 0:00:01\r\u001b[K     |████████████████████████████████| 80 kB 4.1 MB/s \n",
            "\u001b[?25hRequirement already satisfied: scikit-learn>=0.20.0 in /usr/local/lib/python3.7/dist-packages (from category_encoders==2.*) (0.22.2.post1)\n",
            "Requirement already satisfied: numpy>=1.14.0 in /usr/local/lib/python3.7/dist-packages (from category_encoders==2.*) (1.19.5)\n",
            "Requirement already satisfied: pandas>=0.21.1 in /usr/local/lib/python3.7/dist-packages (from category_encoders==2.*) (1.1.5)\n",
            "Requirement already satisfied: statsmodels>=0.9.0 in /usr/local/lib/python3.7/dist-packages (from category_encoders==2.*) (0.10.2)\n",
            "Requirement already satisfied: scipy>=1.0.0 in /usr/local/lib/python3.7/dist-packages (from category_encoders==2.*) (1.4.1)\n",
            "Requirement already satisfied: patsy>=0.5.1 in /usr/local/lib/python3.7/dist-packages (from category_encoders==2.*) (0.5.1)\n",
            "Requirement already satisfied: pytz>=2017.2 in /usr/local/lib/python3.7/dist-packages (from pandas>=0.21.1->category_encoders==2.*) (2018.9)\n",
            "Requirement already satisfied: python-dateutil>=2.7.3 in /usr/local/lib/python3.7/dist-packages (from pandas>=0.21.1->category_encoders==2.*) (2.8.2)\n",
            "Requirement already satisfied: six in /usr/local/lib/python3.7/dist-packages (from patsy>=0.5.1->category_encoders==2.*) (1.15.0)\n",
            "Requirement already satisfied: joblib>=0.11 in /usr/local/lib/python3.7/dist-packages (from scikit-learn>=0.20.0->category_encoders==2.*) (1.0.1)\n",
            "Installing collected packages: category-encoders\n",
            "Successfully installed category-encoders-2.2.2\n"
          ]
        }
      ]
    },
    {
      "cell_type": "code",
      "metadata": {
        "id": "xtKzI2Ox2laK"
      },
      "source": [
        "from category_encoders import OrdinalEncoder\n",
        "from sklearn.ensemble import RandomForestClassifier\n",
        "from sklearn.impute import SimpleImputer\n",
        "from sklearn.model_selection import cross_val_score #k-fold cross validation,\n",
        "from sklearn.model_selection import GridSearchCV, RandomizedSearchCV # hyperparameter fine tuning \n",
        "from sklearn.pipeline import make_pipeline\n",
        "from sklearn.tree import DecisionTreeClassifier\n",
        "import pandas as pd\n",
        "import numpy as np"
      ],
      "execution_count": 4,
      "outputs": []
    },
    {
      "cell_type": "markdown",
      "metadata": {
        "id": "VLfV23cU211V"
      },
      "source": [
        "# I. Wrangle Data"
      ]
    },
    {
      "cell_type": "code",
      "metadata": {
        "id": "0pooTRKB2yIB"
      },
      "source": [
        "def wrangle(fm_path, tv_path=None):\n",
        "  if tv_path:\n",
        "    df = pd.merge(pd.read_csv(fm_path, na_values=[0, -2.000000e-08],parse_dates=['date_recorded']), pd.read_csv(tv_path)).set_index('id')\n",
        "  else:\n",
        "    df = pd.read_csv(fm_path, na_values=[0, -2.000000e-08], parse_dates=['date_recorded'], index_col='id')\n",
        "  # drop constant columns \n",
        "  df.drop(columns=['recorded_by'], inplace=True)\n",
        "  # create age feature \n",
        "  df['pump_age'] = df['date_recorded'].dt.year - df['construction_year']\n",
        "  df.drop(columns=['date_recorded'], inplace=True)\n",
        "  # drop high cardinality columns \n",
        "  cutoff = 100\n",
        "  drop_cols = [col for col in df.select_dtypes('object').columns if df[col].nunique() > 100]\n",
        "  df.drop(columns = drop_cols, inplace=True)\n",
        "  # drop duplicate columns \n",
        "  dup_cols = [col for col in df.head(15).T.duplicated().index if df.head(15).T.duplicated()[col]]\n",
        "  df.drop(columns=dup_cols, inplace=True)\n",
        "  return df"
      ],
      "execution_count": 5,
      "outputs": []
    },
    {
      "cell_type": "code",
      "metadata": {
        "id": "_6lZRaaC3SYP"
      },
      "source": [
        "df = wrangle(DATA_PATH + 'waterpumps/train_features.csv', DATA_PATH + 'waterpumps/train_labels.csv')\n",
        "X_test = wrangle(DATA_PATH + 'waterpumps/test_features.csv')"
      ],
      "execution_count": 7,
      "outputs": []
    },
    {
      "cell_type": "markdown",
      "metadata": {
        "id": "mGSl8ZY63VbA"
      },
      "source": [
        "#II. Split Data"
      ]
    },
    {
      "cell_type": "markdown",
      "metadata": {
        "id": "STIt3-MW3XTE"
      },
      "source": [
        "# Split TV from FM"
      ]
    },
    {
      "cell_type": "code",
      "metadata": {
        "id": "3MwYv_1z3fco"
      },
      "source": [
        "target = 'status_group'\n",
        "y_train = df[target]\n",
        "X_train = df.drop(columns=target)"
      ],
      "execution_count": 8,
      "outputs": []
    },
    {
      "cell_type": "markdown",
      "metadata": {
        "id": "fCnrBsCL3c4R"
      },
      "source": [
        "# Training-Validation Split\n",
        "\n",
        "* Since we're doing k-fold CV (cross validation), there's no need for a validation set"
      ]
    },
    {
      "cell_type": "markdown",
      "metadata": {
        "id": "G5Pqo5xM3Zh1"
      },
      "source": [
        "# III. Establish Baseline\n",
        "\n",
        "This is a **classification** our baseline with be **accuracy**"
      ]
    },
    {
      "cell_type": "code",
      "metadata": {
        "colab": {
          "base_uri": "https://localhost:8080/"
        },
        "id": "xhlow_qi3Uy8",
        "outputId": "54577ff2-b5b0-4aa4-fdfd-ae495b0639d3"
      },
      "source": [
        "print('Baseline Accuracy:', y_train.value_counts(normalize=True).max())"
      ],
      "execution_count": 9,
      "outputs": [
        {
          "output_type": "stream",
          "name": "stdout",
          "text": [
            "Baseline Accuracy: 0.5430899510092763\n"
          ]
        }
      ]
    },
    {
      "cell_type": "markdown",
      "metadata": {
        "id": "4Hf02ZZK4Tfw"
      },
      "source": [
        "# IV. Build Models\n",
        "\n",
        "* DecisionTreeClassifier\n",
        "* RandomForestClassifier"
      ]
    },
    {
      "cell_type": "code",
      "metadata": {
        "id": "kaye8Pax4S2U"
      },
      "source": [
        "model_dt = make_pipeline(\n",
        "    OrdinalEncoder(),\n",
        "    SimpleImputer(),\n",
        "    DecisionTreeClassifier(random_state=42)\n",
        ")"
      ],
      "execution_count": 10,
      "outputs": []
    },
    {
      "cell_type": "code",
      "metadata": {
        "id": "YeegFive4kwQ"
      },
      "source": [
        "model_rf = make_pipeline(\n",
        "    OrdinalEncoder(),\n",
        "    SimpleImputer(),\n",
        "    RandomForestClassifier(n_estimators=25, random_state=42)\n",
        ")"
      ],
      "execution_count": 11,
      "outputs": []
    },
    {
      "cell_type": "markdown",
      "metadata": {
        "id": "Eb84tPdW4rAZ"
      },
      "source": [
        "**Check cross-validation scores**"
      ]
    },
    {
      "cell_type": "code",
      "metadata": {
        "id": "TD9moZO44prE"
      },
      "source": [
        "cv_scores_dt = cross_val_score(model_dt, X_train, y_train, cv=5, n_jobs=-1)\n",
        "cv_scores_rf = cross_val_score(model_rf, X_train, y_train, cv=5, n_jobs=-1)"
      ],
      "execution_count": 19,
      "outputs": []
    },
    {
      "cell_type": "code",
      "metadata": {
        "colab": {
          "base_uri": "https://localhost:8080/"
        },
        "id": "hzzftLob44dL",
        "outputId": "552a3f5a-d261-4ce2-b344-49c2e4cce774"
      },
      "source": [
        "print('CV score DecisionTreeClassifier')\n",
        "print(cv_scores_dt)\n",
        "print('Mean CV accuracy score:', cv_scores_dt.mean())\n",
        "print('STD CV accuracy score:', cv_scores_dt.std())"
      ],
      "execution_count": 20,
      "outputs": [
        {
          "output_type": "stream",
          "name": "stdout",
          "text": [
            "CV score DecisionTreeClassifier\n",
            "[0.75782828 0.74991582 0.75917508 0.75580808 0.74779022]\n",
            "Mean CV accuracy score: 0.7541034981518187\n",
            "STD CV accuracy score: 0.0044697812186829024\n"
          ]
        }
      ]
    },
    {
      "cell_type": "code",
      "metadata": {
        "colab": {
          "base_uri": "https://localhost:8080/"
        },
        "id": "RGvILTi_5OEb",
        "outputId": "be16e689-85a0-4c2d-c646-5088d9d10f6b"
      },
      "source": [
        "print('CV score RandomForestClassifier')\n",
        "print(cv_scores_rf)\n",
        "print('Mean CV accuracy score:', cv_scores_rf.mean())\n",
        "print('STD CV accuracy score:', cv_scores_rf.std())"
      ],
      "execution_count": 21,
      "outputs": [
        {
          "output_type": "stream",
          "name": "stdout",
          "text": [
            "CV score RandomForestClassifier\n",
            "[0.80505051 0.79907407 0.79991582 0.79974747 0.79425878]\n",
            "Mean CV accuracy score: 0.7996093309558248\n",
            "STD CV accuracy score: 0.003424451376257444\n"
          ]
        }
      ]
    },
    {
      "cell_type": "markdown",
      "metadata": {
        "id": "Jf6gdsPL5UrW"
      },
      "source": [
        "# V. Tune Model\n",
        "\n",
        "* What are important hyperparameters for RandomForestClassifier?\n",
        "  * max_depth: 5-35\n",
        "  * n_estimators: 25-100\n",
        "  * imputation strategy: mean or median\n",
        "\n",
        "**GridSearch**: Very thourough, but it can take a long time"
      ]
    },
    {
      "cell_type": "code",
      "metadata": {
        "id": "lDbSJrCFANLN"
      },
      "source": [
        "param_grid = {\n",
        "    'simpleimputer__strategy': ['mean', 'median'],\n",
        "    'randomforestclassifier__max_depth': range(5, 40, 5),\n",
        "    'rnadomforestclassifier__n_estimators': range(25, 125, 25)\n",
        "}\n",
        "\n",
        "model_rfgs = GridSearchCV(\n",
        "    model_rf, \n",
        "    param_grid=param_grid,\n",
        "    n_jobs=-1,\n",
        "    cv=5,\n",
        "    verbose=1\n",
        ")\n",
        "\n",
        "model_rfgs.fit(X_train, y_train)"
      ],
      "execution_count": null,
      "outputs": []
    },
    {
      "cell_type": "code",
      "metadata": {
        "colab": {
          "base_uri": "https://localhost:8080/"
        },
        "id": "ReRboQArCpPK",
        "outputId": "92964727-6b1e-47c0-de40-7da9937676fa"
      },
      "source": [
        "7*4*2*5 #number of models for grid search"
      ],
      "execution_count": 22,
      "outputs": [
        {
          "output_type": "execute_result",
          "data": {
            "text/plain": [
              "280"
            ]
          },
          "metadata": {},
          "execution_count": 22
        }
      ]
    },
    {
      "cell_type": "markdown",
      "metadata": {
        "id": "HKsnMIFvANhN"
      },
      "source": [
        "**RandomizedSearchCV**: Quicker, less effective but usually good enough"
      ]
    },
    {
      "cell_type": "code",
      "metadata": {
        "id": "VG33IgE9ARWb"
      },
      "source": [
        ""
      ],
      "execution_count": null,
      "outputs": []
    },
    {
      "cell_type": "markdown",
      "metadata": {
        "id": "z9zqgFxuAR4Z"
      },
      "source": [
        "# Make Submission"
      ]
    },
    {
      "cell_type": "code",
      "metadata": {
        "id": "g8EPobyVA-m1"
      },
      "source": [
        ""
      ],
      "execution_count": null,
      "outputs": []
    }
  ]
}