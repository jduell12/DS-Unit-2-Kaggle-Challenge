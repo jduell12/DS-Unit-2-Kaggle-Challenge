{
  "nbformat": 4,
  "nbformat_minor": 0,
  "metadata": {
    "colab": {
      "name": "guidedPorject.ipynb",
      "provenance": [],
      "authorship_tag": "ABX9TyMs7cU4IUVrP2KuRcwu6pL5",
      "include_colab_link": true
    },
    "kernelspec": {
      "name": "python3",
      "display_name": "Python 3"
    },
    "language_info": {
      "name": "python"
    }
  },
  "cells": [
    {
      "cell_type": "markdown",
      "metadata": {
        "id": "view-in-github",
        "colab_type": "text"
      },
      "source": [
        "<a href=\"https://colab.research.google.com/github/jduell12/DS-Unit-2-Kaggle-Challenge/blob/main/guidedProject.ipynb\" target=\"_parent\"><img src=\"https://colab.research.google.com/assets/colab-badge.svg\" alt=\"Open In Colab\"/></a>"
      ]
    },
    {
      "cell_type": "code",
      "metadata": {
        "colab": {
          "base_uri": "https://localhost:8080/"
        },
        "id": "cnCf0AnncT40",
        "outputId": "8f4b2587-73f1-4663-bf41-c2481cf15ce0"
      },
      "source": [
        "import sys\n",
        "# If you're on Colab:\n",
        "if 'google.colab' in sys.modules:\n",
        "  DATA_PATH = 'https://raw.githubusercontent.com/LambdaSchool/DS-Unit-2-Kaggle-Challenge/main/data/'\n",
        "  !pip install category_encoders==2.*\n",
        "else:\n",
        "  DATA_PATH = '../data/'"
      ],
      "execution_count": 1,
      "outputs": [
        {
          "output_type": "stream",
          "name": "stdout",
          "text": [
            "Collecting category_encoders==2.*\n",
            "  Downloading category_encoders-2.2.2-py2.py3-none-any.whl (80 kB)\n",
            "\u001b[?25l\r\u001b[K     |████                            | 10 kB 24.2 MB/s eta 0:00:01\r\u001b[K     |████████▏                       | 20 kB 12.1 MB/s eta 0:00:01\r\u001b[K     |████████████▏                   | 30 kB 14.2 MB/s eta 0:00:01\r\u001b[K     |████████████████▎               | 40 kB 15.8 MB/s eta 0:00:01\r\u001b[K     |████████████████████▎           | 51 kB 17.6 MB/s eta 0:00:01\r\u001b[K     |████████████████████████▍       | 61 kB 19.1 MB/s eta 0:00:01\r\u001b[K     |████████████████████████████▍   | 71 kB 20.3 MB/s eta 0:00:01\r\u001b[K     |████████████████████████████████| 80 kB 4.9 MB/s \n",
            "\u001b[?25hRequirement already satisfied: statsmodels>=0.9.0 in /usr/local/lib/python3.7/dist-packages (from category_encoders==2.*) (0.10.2)\n",
            "Requirement already satisfied: pandas>=0.21.1 in /usr/local/lib/python3.7/dist-packages (from category_encoders==2.*) (1.1.5)\n",
            "Requirement already satisfied: patsy>=0.5.1 in /usr/local/lib/python3.7/dist-packages (from category_encoders==2.*) (0.5.1)\n",
            "Requirement already satisfied: scikit-learn>=0.20.0 in /usr/local/lib/python3.7/dist-packages (from category_encoders==2.*) (0.22.2.post1)\n",
            "Requirement already satisfied: numpy>=1.14.0 in /usr/local/lib/python3.7/dist-packages (from category_encoders==2.*) (1.19.5)\n",
            "Requirement already satisfied: scipy>=1.0.0 in /usr/local/lib/python3.7/dist-packages (from category_encoders==2.*) (1.4.1)\n",
            "Requirement already satisfied: python-dateutil>=2.7.3 in /usr/local/lib/python3.7/dist-packages (from pandas>=0.21.1->category_encoders==2.*) (2.8.2)\n",
            "Requirement already satisfied: pytz>=2017.2 in /usr/local/lib/python3.7/dist-packages (from pandas>=0.21.1->category_encoders==2.*) (2018.9)\n",
            "Requirement already satisfied: six in /usr/local/lib/python3.7/dist-packages (from patsy>=0.5.1->category_encoders==2.*) (1.15.0)\n",
            "Requirement already satisfied: joblib>=0.11 in /usr/local/lib/python3.7/dist-packages (from scikit-learn>=0.20.0->category_encoders==2.*) (1.0.1)\n",
            "Installing collected packages: category-encoders\n",
            "Successfully installed category-encoders-2.2.2\n"
          ]
        }
      ]
    },
    {
      "cell_type": "code",
      "metadata": {
        "colab": {
          "base_uri": "https://localhost:8080/"
        },
        "id": "sk42lpbpcpQ2",
        "outputId": "2990f87b-0df0-4685-e132-d79f901efac5"
      },
      "source": [
        "from category_encoders import OrdinalEncoder\n",
        "from sklearn.ensemble import RandomForestClassifier\n",
        "from sklearn.impute import SimpleImputer\n",
        "from sklearn.model_selection import train_test_split\n",
        "from sklearn.pipeline import make_pipeline\n",
        "from sklearn.tree import DecisionTreeClassifier\n",
        "import matplotlib.pyplot as plt\n",
        "import pandas as pd\n",
        "import numpy as np"
      ],
      "execution_count": 2,
      "outputs": [
        {
          "output_type": "stream",
          "name": "stderr",
          "text": [
            "/usr/local/lib/python3.7/dist-packages/statsmodels/tools/_testing.py:19: FutureWarning: pandas.util.testing is deprecated. Use the functions in the public API at pandas.testing instead.\n",
            "  import pandas.util.testing as tm\n"
          ]
        }
      ]
    },
    {
      "cell_type": "markdown",
      "metadata": {
        "id": "s_6IYOZ6cWtb"
      },
      "source": [
        "# I. Wrangle Data"
      ]
    },
    {
      "cell_type": "code",
      "metadata": {
        "id": "p6WdCAAgc6c5"
      },
      "source": [
        "def wrangle(fm_path, tv_path=None):\n",
        "  if tv_path:\n",
        "    df = pd.merge(pd.read_csv(fm_path, na_values=[0, -2.000000e-08],parse_dates=['date_recorded']), pd.read_csv(tv_path)).set_index('id')\n",
        "  else:\n",
        "    df = pd.read_csv(fm_path, na_values=[0, -2.000000e-08], parse_dates=['date_recorded'], index_col='id')\n",
        "  # drop constant columns \n",
        "  df.drop(columns=['recorded_by'], inplace=True)\n",
        "  # create age feature \n",
        "  df['pump_age'] = df['date_recorded'].dt.year - df['construction_year']\n",
        "  df.drop(columns=['date_recorded'], inplace=True)\n",
        "  # drop high cardinality columns \n",
        "  cutoff = 100\n",
        "  drop_cols = [col for col in df.select_dtypes('object').columns if df[col].nunique() > 100]\n",
        "  df.drop(columns = drop_cols, inplace=True)\n",
        "  # drop duplicate columns \n",
        "  dup_cols = [col for col in df.head(15).T.duplicated().index if df.head(15).T.duplicated()[col]]\n",
        "  df.drop(columns=dup_cols, inplace=True)\n",
        "  return df"
      ],
      "execution_count": 24,
      "outputs": []
    },
    {
      "cell_type": "code",
      "metadata": {
        "id": "m4b8K1FhdK0E"
      },
      "source": [
        "df = wrangle(DATA_PATH + 'waterpumps/train_features.csv', DATA_PATH + 'waterpumps/train_labels.csv')\n",
        "X_test = wrangle(DATA_PATH + 'waterpumps/test_features.csv')"
      ],
      "execution_count": 25,
      "outputs": []
    },
    {
      "cell_type": "code",
      "metadata": {
        "colab": {
          "base_uri": "https://localhost:8080/"
        },
        "id": "c5iX0IrDdVjA",
        "outputId": "f485f9f8-8161-4213-81fe-70a34d02eabe"
      },
      "source": [
        "df.info()"
      ],
      "execution_count": 28,
      "outputs": [
        {
          "output_type": "stream",
          "name": "stdout",
          "text": [
            "<class 'pandas.core.frame.DataFrame'>\n",
            "Float64Index: 59399 entries, 69572.0 to 26348.0\n",
            "Data columns (total 30 columns):\n",
            " #   Column                 Non-Null Count  Dtype  \n",
            "---  ------                 --------------  -----  \n",
            " 0   amount_tsh             17761 non-null  float64\n",
            " 1   gps_height             38962 non-null  float64\n",
            " 2   longitude              57587 non-null  float64\n",
            " 3   latitude               57587 non-null  float64\n",
            " 4   num_private            757 non-null    float64\n",
            " 5   basin                  59399 non-null  object \n",
            " 6   region                 59399 non-null  object \n",
            " 7   region_code            59399 non-null  int64  \n",
            " 8   district_code          59376 non-null  float64\n",
            " 9   population             38019 non-null  float64\n",
            " 10  public_meeting         56066 non-null  object \n",
            " 11  scheme_management      55522 non-null  object \n",
            " 12  permit                 56343 non-null  object \n",
            " 13  construction_year      38691 non-null  float64\n",
            " 14  extraction_type        59399 non-null  object \n",
            " 15  extraction_type_class  59399 non-null  object \n",
            " 16  management             59399 non-null  object \n",
            " 17  management_group       59399 non-null  object \n",
            " 18  payment                59399 non-null  object \n",
            " 19  payment_type           59399 non-null  object \n",
            " 20  water_quality          59399 non-null  object \n",
            " 21  quality_group          59399 non-null  object \n",
            " 22  quantity               59399 non-null  object \n",
            " 23  source                 59399 non-null  object \n",
            " 24  source_type            59399 non-null  object \n",
            " 25  source_class           59399 non-null  object \n",
            " 26  waterpoint_type        59399 non-null  object \n",
            " 27  waterpoint_type_group  59399 non-null  object \n",
            " 28  status_group           59399 non-null  object \n",
            " 29  pump_age               38691 non-null  float64\n",
            "dtypes: float64(9), int64(1), object(20)\n",
            "memory usage: 14.0+ MB\n"
          ]
        }
      ]
    },
    {
      "cell_type": "markdown",
      "metadata": {
        "id": "8h6L778PfmIp"
      },
      "source": [
        "# II. Split Data "
      ]
    },
    {
      "cell_type": "markdown",
      "metadata": {
        "id": "Cp9pljaDfsMQ"
      },
      "source": [
        "# Split TV From FM"
      ]
    },
    {
      "cell_type": "code",
      "metadata": {
        "id": "TsWCnCimfyyJ"
      },
      "source": [
        "target = 'status_group'\n",
        "y = df[target]\n",
        "X = df.drop(columns=target)"
      ],
      "execution_count": 29,
      "outputs": []
    },
    {
      "cell_type": "markdown",
      "metadata": {
        "id": "VzhuxovlfuaG"
      },
      "source": [
        "# Training-Validation Split\n",
        "* Randomized Split"
      ]
    },
    {
      "cell_type": "code",
      "metadata": {
        "id": "uaD5oJuofzRb"
      },
      "source": [
        "X_train, X_val, y_train, y_val = train_test_split(X, y, test_size=0.2, random_state=42)"
      ],
      "execution_count": 30,
      "outputs": []
    },
    {
      "cell_type": "markdown",
      "metadata": {
        "id": "sF7wbALkfwqj"
      },
      "source": [
        "# III. Establish baseline \n",
        "\n",
        "This is a **classification** problem, our baseline will be **accuracy**"
      ]
    },
    {
      "cell_type": "code",
      "metadata": {
        "colab": {
          "base_uri": "https://localhost:8080/"
        },
        "id": "cAVcRiEIdaxs",
        "outputId": "d63d1af5-a7e0-4185-f2a9-b4173f63d358"
      },
      "source": [
        "print('Baseline Accuracy:', y_train.value_counts(normalize=True).max())"
      ],
      "execution_count": 31,
      "outputs": [
        {
          "output_type": "stream",
          "name": "stdout",
          "text": [
            "Baseline Accuracy: 0.5425829668132747\n"
          ]
        }
      ]
    },
    {
      "cell_type": "markdown",
      "metadata": {
        "id": "Tj3R2fXpgObx"
      },
      "source": [
        "# IV. Build Model(s)\n",
        "\n",
        "* Missing values\n",
        "* Categorical value "
      ]
    },
    {
      "cell_type": "code",
      "metadata": {
        "colab": {
          "base_uri": "https://localhost:8080/"
        },
        "id": "nfm-jAmGgNem",
        "outputId": "382490f7-770c-4d6c-dc86-986d2ed000c9"
      },
      "source": [
        "tree_model = make_pipeline(\n",
        "    OrdinalEncoder(),\n",
        "    SimpleImputer(strategy='mean'),\n",
        "    DecisionTreeClassifier(random_state=42, max_depth=20)\n",
        ")\n",
        "\n",
        "tree_model.fit(X_train, y_train)"
      ],
      "execution_count": 32,
      "outputs": [
        {
          "output_type": "execute_result",
          "data": {
            "text/plain": [
              "Pipeline(memory=None,\n",
              "         steps=[('ordinalencoder',\n",
              "                 OrdinalEncoder(cols=['basin', 'region', 'public_meeting',\n",
              "                                      'scheme_management', 'permit',\n",
              "                                      'extraction_type',\n",
              "                                      'extraction_type_class', 'management',\n",
              "                                      'management_group', 'payment',\n",
              "                                      'payment_type', 'water_quality',\n",
              "                                      'quality_group', 'quantity', 'source',\n",
              "                                      'source_type', 'source_class',\n",
              "                                      'waterpoint_type',\n",
              "                                      'waterpoint_type_group...\n",
              "                               missing_values=nan, strategy='mean',\n",
              "                               verbose=0)),\n",
              "                ('decisiontreeclassifier',\n",
              "                 DecisionTreeClassifier(ccp_alpha=0.0, class_weight=None,\n",
              "                                        criterion='gini', max_depth=20,\n",
              "                                        max_features=None, max_leaf_nodes=None,\n",
              "                                        min_impurity_decrease=0.0,\n",
              "                                        min_impurity_split=None,\n",
              "                                        min_samples_leaf=1, min_samples_split=2,\n",
              "                                        min_weight_fraction_leaf=0.0,\n",
              "                                        presort='deprecated', random_state=42,\n",
              "                                        splitter='best'))],\n",
              "         verbose=False)"
            ]
          },
          "metadata": {},
          "execution_count": 32
        }
      ]
    },
    {
      "cell_type": "code",
      "metadata": {
        "colab": {
          "base_uri": "https://localhost:8080/"
        },
        "id": "NrrLVSMmgX0c",
        "outputId": "677875ed-1387-4980-b10d-37115fa3f17e"
      },
      "source": [
        "rf_model = make_pipeline(\n",
        "    OrdinalEncoder(),\n",
        "    SimpleImputer(strategy='mean'),\n",
        "    RandomForestClassifier(random_state=42, n_jobs=-1)\n",
        ")\n",
        "\n",
        "rf_model.fit(X_train, y_train)"
      ],
      "execution_count": 37,
      "outputs": [
        {
          "output_type": "execute_result",
          "data": {
            "text/plain": [
              "Pipeline(memory=None,\n",
              "         steps=[('ordinalencoder',\n",
              "                 OrdinalEncoder(cols=['basin', 'region', 'public_meeting',\n",
              "                                      'scheme_management', 'permit',\n",
              "                                      'extraction_type',\n",
              "                                      'extraction_type_class', 'management',\n",
              "                                      'management_group', 'payment',\n",
              "                                      'payment_type', 'water_quality',\n",
              "                                      'quality_group', 'quantity', 'source',\n",
              "                                      'source_type', 'source_class',\n",
              "                                      'waterpoint_type',\n",
              "                                      'waterpoint_type_group...\n",
              "                 RandomForestClassifier(bootstrap=True, ccp_alpha=0.0,\n",
              "                                        class_weight=None, criterion='gini',\n",
              "                                        max_depth=None, max_features='auto',\n",
              "                                        max_leaf_nodes=None, max_samples=None,\n",
              "                                        min_impurity_decrease=0.0,\n",
              "                                        min_impurity_split=None,\n",
              "                                        min_samples_leaf=1, min_samples_split=2,\n",
              "                                        min_weight_fraction_leaf=0.0,\n",
              "                                        n_estimators=100, n_jobs=-1,\n",
              "                                        oob_score=False, random_state=42,\n",
              "                                        verbose=0, warm_start=False))],\n",
              "         verbose=False)"
            ]
          },
          "metadata": {},
          "execution_count": 37
        }
      ]
    },
    {
      "cell_type": "markdown",
      "metadata": {
        "id": "LUlM3VeLgvE0"
      },
      "source": [
        "# V. Check Metrics"
      ]
    },
    {
      "cell_type": "code",
      "metadata": {
        "colab": {
          "base_uri": "https://localhost:8080/"
        },
        "id": "6cmYkmLagwo_",
        "outputId": "52230611-d668-4e3a-ce2f-4fd91ecee5a0"
      },
      "source": [
        "print('TREE: Training Accuracy:', tree_model.score(X_train, y_train))\n",
        "print('TREE: Validation Accuracy:', tree_model.score(X_val, y_val))"
      ],
      "execution_count": 33,
      "outputs": [
        {
          "output_type": "stream",
          "name": "stdout",
          "text": [
            "TREE: Training Accuracy: 0.9294808392432501\n",
            "TREE: Validation Accuracy: 0.7631313131313131\n"
          ]
        }
      ]
    },
    {
      "cell_type": "code",
      "metadata": {
        "colab": {
          "base_uri": "https://localhost:8080/"
        },
        "id": "ZK66v3-yg63b",
        "outputId": "052934c9-7a9c-425b-af23-92fe9a0bcfc0"
      },
      "source": [
        "print('FOREST: Training Accuracy:', rf_model.score(X_train, y_train))\n",
        "print('FOREST: Validation Accuracy:', rf_model.score(X_val, y_val))"
      ],
      "execution_count": 38,
      "outputs": [
        {
          "output_type": "stream",
          "name": "stdout",
          "text": [
            "FOREST: Training Accuracy: 0.9952440076600939\n",
            "FOREST: Validation Accuracy: 0.8022727272727272\n"
          ]
        }
      ]
    },
    {
      "cell_type": "markdown",
      "metadata": {
        "id": "LAg5n_SZijN2"
      },
      "source": [
        "# VI. Tune Model"
      ]
    },
    {
      "cell_type": "code",
      "metadata": {
        "id": "UTAEJ7FoihdJ"
      },
      "source": [
        ""
      ],
      "execution_count": null,
      "outputs": []
    },
    {
      "cell_type": "markdown",
      "metadata": {
        "id": "6F2gFP0niox0"
      },
      "source": [
        "# VII. Communicate Results "
      ]
    },
    {
      "cell_type": "code",
      "metadata": {
        "id": "F4lmixT3iq4e"
      },
      "source": [
        "importances = rf_model.named_steps['randomforestclassifier'].feature_importances_\n",
        "features = rf_model.named_steps['ordinalencoder'].get_feature_names() # could use X_train.columns instead\n",
        "\n",
        "feat_imp = pd.Series(importances, index=features).sort_values()"
      ],
      "execution_count": 44,
      "outputs": []
    },
    {
      "cell_type": "code",
      "metadata": {
        "colab": {
          "base_uri": "https://localhost:8080/",
          "height": 279
        },
        "id": "_1J1DPlsjm5U",
        "outputId": "d5bdc10a-7e1a-483b-c154-876e27f80c6a"
      },
      "source": [
        "feat_imp.tail(10).plot(kind='barh');\n",
        "plt.xlabel('Reduction in Gini Impurity');\n",
        "# can't really tell if this is a positive or negative impact on the water pumps"
      ],
      "execution_count": 49,
      "outputs": [
        {
          "output_type": "display_data",
          "data": {
            "image/png": "[encoded data removed]",
            "text/plain": [
              "<Figure size 432x288 with 1 Axes>"
            ]
          },
          "metadata": {
            "needs_background": "light"
          }
        }
      ]
    },
    {
      "cell_type": "code",
      "metadata": {
        "id": "4nzFePlnjn1r"
      },
      "source": [
        ""
      ],
      "execution_count": null,
      "outputs": []
    }
  ]
}