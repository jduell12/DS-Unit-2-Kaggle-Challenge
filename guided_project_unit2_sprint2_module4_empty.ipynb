{
  "nbformat": 4,
  "nbformat_minor": 0,
  "metadata": {
    "colab": {
      "name": "guided_project_unit2_sprint2_module4_empty",
      "provenance": [],
      "collapsed_sections": [],
      "authorship_tag": "ABX9TyOlxp9jkLXt+8OuSSrgrY2f",
      "include_colab_link": true
    },
    "kernelspec": {
      "name": "python3",
      "display_name": "Python 3"
    },
    "language_info": {
      "name": "python"
    }
  },
  "cells": [
    {
      "cell_type": "markdown",
      "metadata": {
        "id": "view-in-github",
        "colab_type": "text"
      },
      "source": [
        "<a href=\"https://colab.research.google.com/github/jduell12/DS-Unit-2-Kaggle-Challenge/blob/main/guided_project_unit2_sprint2_module4_empty.ipynb\" target=\"_parent\"><img src=\"https://colab.research.google.com/assets/colab-badge.svg\" alt=\"Open In Colab\"/></a>"
      ]
    },
    {
      "cell_type": "markdown",
      "metadata": {
        "id": "vPNInuKDlmbY"
      },
      "source": [
        "# Classification Metrics\n",
        "\n",
        "- get and interpret the **confusion matrix** for classification models\n",
        "- use classification metrics: **precision, recall**\n",
        "- understand the relationships between precision, recall, **thresholds, and predicted probabilities**, to help **make decisions and allocate budgets**"
      ]
    },
    {
      "cell_type": "code",
      "metadata": {
        "id": "a0s8nEA-ll0L"
      },
      "source": [
        "%%capture\n",
        "import sys\n",
        "\n",
        "# If you're on Colab:\n",
        "if 'google.colab' in sys.modules:\n",
        "    DATA_PATH = 'https://raw.githubusercontent.com/LambdaSchool/DS-Unit-2-Kaggle-Challenge/master/data/'\n",
        "    !pip install category_encoders==2.*\n",
        "\n",
        "# If you're working locally:\n",
        "else:\n",
        "    DATA_PATH = '../data/'"
      ],
      "execution_count": null,
      "outputs": []
    },
    {
      "cell_type": "code",
      "metadata": {
        "id": "K8rlsDjxl5mV"
      },
      "source": [
        "from category_encoders import OrdinalEncoder, OneHotEncoder\n",
        "from sklearn.ensemble import RandomForestClassifier\n",
        "from sklearn.impute import SimpleImputer\n",
        "from sklearn.metrics import plot_confusion_matrix, classification_report\n",
        "from sklearn.model_selection import train_test_split\n",
        "from sklearn.pipeline import make_pipeline\n",
        "from sklearn.preprocessing import StandardScaler\n",
        "import pandas as pd\n",
        "import numpy as np"
      ],
      "execution_count": null,
      "outputs": []
    },
    {
      "cell_type": "markdown",
      "metadata": {
        "id": "xudZhpznl20d"
      },
      "source": [
        "# I. Wrangle Data"
      ]
    },
    {
      "cell_type": "code",
      "metadata": {
        "id": "mYBH2NAszr8P"
      },
      "source": [
        "def wrangle(fm_path, tv_path=None):\n",
        "  if tv_path:\n",
        "    df = pd.merge(pd.read_csv(fm_path, na_values=[0, -2.000000e-08],parse_dates=['date_recorded']), pd.read_csv(tv_path)).set_index('id')\n",
        "      # create new target\n",
        "    df['needs_repair'] = (df['status_group'] != 'functional').astype(int)\n",
        "    df.drop(columns='status_group', inplace=True)\n",
        "  else:\n",
        "    df = pd.read_csv(fm_path, na_values=[0, -2.000000e-08], parse_dates=['date_recorded'], index_col='id')\n",
        "  # drop constant columns \n",
        "  df.drop(columns=['recorded_by'], inplace=True)\n",
        "  # create age feature \n",
        "  df['pump_age'] = df['date_recorded'].dt.year - df['construction_year']\n",
        "  df.drop(columns=['date_recorded'], inplace=True)\n",
        "  # drop high cardinality columns \n",
        "  cutoff = 100\n",
        "  drop_cols = [col for col in df.select_dtypes('object').columns if df[col].nunique() > 100]\n",
        "  df.drop(columns = drop_cols, inplace=True)\n",
        "  # drop duplicate columns \n",
        "  dup_cols = [col for col in df.head(15).T.duplicated().index if df.head(15).T.duplicated()[col]]\n",
        "  df.drop(columns=dup_cols, inplace=True)\n",
        "\n",
        "  return df"
      ],
      "execution_count": null,
      "outputs": []
    },
    {
      "cell_type": "code",
      "metadata": {
        "id": "WkH-x6xTzuZx"
      },
      "source": [
        "df = wrangle(DATA_PATH + 'waterpumps/train_features.csv', DATA_PATH + 'waterpumps/train_labels.csv')\n",
        "X_test = wrangle(DATA_PATH + 'waterpumps/test_features.csv')"
      ],
      "execution_count": null,
      "outputs": []
    },
    {
      "cell_type": "markdown",
      "metadata": {
        "id": "n_4F2jmWz-Me"
      },
      "source": [
        "# EDA \n",
        "* How can we transform our target so that this is a **binary classification** problem?"
      ]
    },
    {
      "cell_type": "markdown",
      "metadata": {
        "id": "QM0ZRkPhzwFI"
      },
      "source": [
        "# II. Split Data"
      ]
    },
    {
      "cell_type": "code",
      "metadata": {
        "id": "Kdg3lNqwzxdj"
      },
      "source": [
        "# split TV / FM\n",
        "target = 'needs_repair'\n",
        "X = df.drop(columns=target)\n",
        "y = df[target]\n",
        "\n",
        "# train-val split\n",
        "X_train, X_val, y_train, y_val = train_test_split(X, y, test_size=0.2, random_state=42)\n",
        "\n",
        "# sanity check\n",
        "assert len(X_train) + len(X_val) == len(X)"
      ],
      "execution_count": null,
      "outputs": []
    },
    {
      "cell_type": "markdown",
      "metadata": {
        "id": "7knZJ4ekzx0x"
      },
      "source": [
        "# III. Establish Baseline"
      ]
    },
    {
      "cell_type": "code",
      "metadata": {
        "colab": {
          "base_uri": "https://localhost:8080/"
        },
        "id": "m72ONmOIz0zr",
        "outputId": "a0bf7f41-bd22-413e-c15e-06020e0b3e92"
      },
      "source": [
        "print('Baseline Accuracy:', y_train.value_counts(normalize=True).max())"
      ],
      "execution_count": null,
      "outputs": [
        {
          "output_type": "stream",
          "name": "stdout",
          "text": [
            "Baseline Accuracy: 0.5425829668132747\n"
          ]
        }
      ]
    },
    {
      "cell_type": "markdown",
      "metadata": {
        "id": "e0J0gFNe32in"
      },
      "source": [
        "# IV. Build Model\n",
        "\n",
        "* OrdinalEncoder\n",
        "* SimpleImputer\n",
        "* RandomForestClassifier"
      ]
    },
    {
      "cell_type": "code",
      "metadata": {
        "id": "FYFT-Fv0IQsT"
      },
      "source": [
        ""
      ],
      "execution_count": null,
      "outputs": []
    },
    {
      "cell_type": "markdown",
      "metadata": {
        "id": "D7cDuyuE4Ke9"
      },
      "source": [
        "# Interlude: Beware of leakage\n",
        "\n",
        "If you leave 'status_group' in your feature matrix, you'll have **leakage**"
      ]
    },
    {
      "cell_type": "code",
      "metadata": {
        "id": "brQsdRupIRk8"
      },
      "source": [
        ""
      ],
      "execution_count": null,
      "outputs": []
    },
    {
      "cell_type": "markdown",
      "metadata": {
        "id": "aTBFBkFx-PeK"
      },
      "source": [
        "# V Check Metrics"
      ]
    },
    {
      "cell_type": "code",
      "metadata": {
        "colab": {
          "base_uri": "https://localhost:8080/"
        },
        "id": "IE37DnWC9TuV",
        "outputId": "d3eb9425-b69b-47ec-f6d4-9ba1270a2e19"
      },
      "source": [
        "print('Training Accuracy:', model.score(X_train, y_train))\n",
        "print('Validation Accuracy:', model.score(X_val, y_val))"
      ],
      "execution_count": null,
      "outputs": [
        {
          "output_type": "stream",
          "name": "stdout",
          "text": [
            "Training Accuracy: 0.9949493886655864\n",
            "Validation Accuracy: 0.8223905723905723\n"
          ]
        }
      ]
    },
    {
      "cell_type": "markdown",
      "metadata": {
        "id": "XwSjTi-F-cu6"
      },
      "source": [
        "**Confusion Matrix**"
      ]
    },
    {
      "cell_type": "code",
      "metadata": {
        "id": "y09G2v40IS8-"
      },
      "source": [
        ""
      ],
      "execution_count": null,
      "outputs": []
    },
    {
      "cell_type": "markdown",
      "metadata": {
        "id": "GhmmaReb-qAl"
      },
      "source": [
        "**Recall Score**\n",
        "\n",
        "Of those pumps that actually needed repair, what proportion did you correctly predict as needing repair?"
      ]
    },
    {
      "cell_type": "code",
      "metadata": {
        "id": "xVIewXzRITfQ"
      },
      "source": [
        ""
      ],
      "execution_count": null,
      "outputs": []
    },
    {
      "cell_type": "markdown",
      "metadata": {
        "id": "cK9aYJ1X-wNW"
      },
      "source": [
        "**Precision Score**\n",
        "\n",
        "Of all the pumps that you predicted as needing repair, what proportion actually needed repair?"
      ]
    },
    {
      "cell_type": "code",
      "metadata": {
        "id": "lm_ORegNIUVY"
      },
      "source": [
        ""
      ],
      "execution_count": null,
      "outputs": []
    },
    {
      "cell_type": "markdown",
      "metadata": {
        "id": "WMH-8pqJBE0q"
      },
      "source": [
        "**Classification Report**"
      ]
    },
    {
      "cell_type": "code",
      "metadata": {
        "id": "9ZFOqjNUIVFN"
      },
      "source": [
        ""
      ],
      "execution_count": null,
      "outputs": []
    },
    {
      "cell_type": "markdown",
      "metadata": {
        "id": "qWyNESdg-m2Q"
      },
      "source": [
        "# Case Study\n",
        "\n",
        "Let's say that it costs the Tanzanian government $100 to inspect a water pump and there is only funding for 2000 pump inspections. "
      ]
    },
    {
      "cell_type": "code",
      "metadata": {
        "id": "gsxftbiY-vpf"
      },
      "source": [
        "n_inspections = 2000"
      ],
      "execution_count": null,
      "outputs": []
    },
    {
      "cell_type": "markdown",
      "metadata": {
        "id": "33DwsjsiB3yt"
      },
      "source": [
        "Scenario 1: Choose pumps randomly"
      ]
    },
    {
      "cell_type": "code",
      "metadata": {
        "id": "Zb4nBXS8IW6I"
      },
      "source": [
        ""
      ],
      "execution_count": null,
      "outputs": []
    },
    {
      "cell_type": "markdown",
      "metadata": {
        "id": "T2Sxz3GXB6Rd"
      },
      "source": [
        "Scenario 2: Using our model 'out of the box'"
      ]
    },
    {
      "cell_type": "code",
      "metadata": {
        "id": "THVNz53UIXSa"
      },
      "source": [
        ""
      ],
      "execution_count": null,
      "outputs": []
    },
    {
      "cell_type": "markdown",
      "metadata": {
        "id": "aKkv_XXHCzPB"
      },
      "source": [
        "Scenario 3: We emphasize **precision** in our model, and only select pumps that our model is very certain (>0.85) needs repair"
      ]
    },
    {
      "cell_type": "code",
      "metadata": {
        "id": "Go0OrU6yIawY"
      },
      "source": [
        ""
      ],
      "execution_count": null,
      "outputs": []
    }
  ]
}